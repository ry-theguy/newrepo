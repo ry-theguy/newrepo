{
 "cells": [
  {
   "cell_type": "code",
   "execution_count": 1,
   "id": "febe1d09-0e56-417c-b7d4-0c6e21ad74e7",
   "metadata": {},
   "outputs": [
    {
     "ename": "SyntaxError",
     "evalue": "invalid syntax (2807419290.py, line 1)",
     "output_type": "error",
     "traceback": [
      "\u001b[0;36m  Cell \u001b[0;32mIn[1], line 1\u001b[0;36m\u001b[0m\n\u001b[0;31m    H1 Data Science Tools and Ecosystems\u001b[0m\n\u001b[0m       ^\u001b[0m\n\u001b[0;31mSyntaxError\u001b[0m\u001b[0;31m:\u001b[0m invalid syntax\n"
     ]
    }
   ],
   "source": [
    "H1 Data Science Tools and Ecosystems"
   ]
  },
  {
   "cell_type": "markdown",
   "id": "ef3f02a7-46ab-473f-8136-43da4d40bb1e",
   "metadata": {},
   "source": [
    "# Data Science Tools and Ecosystems"
   ]
  },
  {
   "cell_type": "markdown",
   "id": "291cc96d-124b-4c77-96be-257b3e899c8b",
   "metadata": {},
   "source": [
    "In this notebook, Data Science Tools and Ecosystem are summarized"
   ]
  },
  {
   "cell_type": "markdown",
   "id": "bf4a181b-27d4-4d6f-9664-e513b5c3a78b",
   "metadata": {},
   "source": [
    "Some of the popular languages that Data Scienctists use are:\n",
    "1. Python\n",
    "2. R\n",
    "3. SQL\n",
    "4. Julia\n",
    "5. Scala"
   ]
  },
  {
   "cell_type": "markdown",
   "id": "979f9326-ee00-4b77-8019-64b9b2d7f98b",
   "metadata": {},
   "source": [
    "Some of the commonly used libraries used by Data Scientists include:\n",
    "1. NumPy\n",
    "2. Pandas\n",
    "3. Matplotlib\n",
    "4. Seaborn\n",
    "5. Scikit-learn\n",
    "6. TensorFlow\n",
    "7. Keras\n",
    "8. PyTorch"
   ]
  },
  {
   "cell_type": "markdown",
   "id": "be17596c-eef1-4524-93c0-de564d10c089",
   "metadata": {},
   "source": [
    "| Data Science Tools |\n",
    "| :------------------: | \n",
    "| JupyterLab | \n",
    "| RStudio | \n",
    "| Anaconda |"
   ]
  },
  {
   "cell_type": "markdown",
   "id": "56a7edaf-2de7-43dc-ae58-1f72ac32d090",
   "metadata": {},
   "source": [
    "### Below are a few examples of evaluating arithmetic expressions in Python"
   ]
  },
  {
   "cell_type": "code",
   "execution_count": 17,
   "id": "b3e54699-1ec0-4ca9-8b4f-f227f96a97f8",
   "metadata": {},
   "outputs": [
    {
     "name": "stdout",
     "output_type": "stream",
     "text": [
      "This is a simple arithmetic expression to multiply then add integers\n"
     ]
    }
   ],
   "source": [
    "print(\"This is a simple arithmetic expression to multiply then add integers\")"
   ]
  },
  {
   "cell_type": "code",
   "execution_count": 18,
   "id": "cda2d844-9f13-453d-985a-fe70c2cff2b1",
   "metadata": {},
   "outputs": [
    {
     "data": {
      "text/plain": [
       "17"
      ]
     },
     "execution_count": 18,
     "metadata": {},
     "output_type": "execute_result"
    }
   ],
   "source": [
    "(3*4)+5"
   ]
  },
  {
   "cell_type": "code",
   "execution_count": 20,
   "id": "8896a344-5b9f-4e7e-9852-096bd692d5f7",
   "metadata": {},
   "outputs": [
    {
     "name": "stdout",
     "output_type": "stream",
     "text": [
      "This will convert 200 minutes to hours by dividing by 60\n"
     ]
    }
   ],
   "source": [
    "print( \"This will convert 200 minutes to hours by dividing by 60\")"
   ]
  },
  {
   "cell_type": "code",
   "execution_count": 23,
   "id": "bb2ffbfd-dace-4c26-a985-550f8ef5a2ea",
   "metadata": {},
   "outputs": [
    {
     "data": {
      "text/plain": [
       "3.0"
      ]
     },
     "execution_count": 23,
     "metadata": {},
     "output_type": "execute_result"
    }
   ],
   "source": [
    "(60/200)*10"
   ]
  },
  {
   "cell_type": "markdown",
   "id": "8f1e697d-b751-464d-a42c-b78dce554331",
   "metadata": {},
   "source": [
    "**Objectives:**\n",
    "- Python\n",
    "- SQL\n",
    "- R\n",
    "- Matplotlib"
   ]
  },
  {
   "cell_type": "markdown",
   "id": "a0c5465f-b7a0-4008-9840-3f6b9477aca6",
   "metadata": {},
   "source": [
    "## Author\n",
    "Ryan Fung"
   ]
  },
  {
   "cell_type": "code",
   "execution_count": null,
   "id": "9415e1f2-fb03-4593-9d44-93ae84760c6e",
   "metadata": {},
   "outputs": [],
   "source": []
  }
 ],
 "metadata": {
  "kernelspec": {
   "display_name": "Python 3 (ipykernel)",
   "language": "python",
   "name": "python3"
  },
  "language_info": {
   "codemirror_mode": {
    "name": "ipython",
    "version": 3
   },
   "file_extension": ".py",
   "mimetype": "text/x-python",
   "name": "python",
   "nbconvert_exporter": "python",
   "pygments_lexer": "ipython3",
   "version": "3.12.8"
  }
 },
 "nbformat": 4,
 "nbformat_minor": 5
}
